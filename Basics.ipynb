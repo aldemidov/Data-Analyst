{
 "cells": [
  {
   "cell_type": "markdown",
   "metadata": {},
   "source": [
    "## Profitable App Profiles for the App Store and Google Play Markets\n",
    "\n",
    "This project is about searching for the most profitable profiles of the apps within the datasets extracted from AppStore and Google Play Markets. It might be useful to gain the reader the context that the following work will be done by the Data Analyst working for the company that builds Android and iOS mobile apps, and his job is to enable the team of developers to make data-driven decisions with respect to the kind of apps they build. It should be noted that the company builds only free apps, so the main source of revenue is app-in ads, therefore the more people see and engage with the ads the more revenue company receives.\n",
    "\n",
    "Apple Store dataset was downloaded from [here](https://dq-content.s3.amazonaws.com/350/googleplaystore.csv) \n",
    "\n",
    "Google Play Store dataset was downloaded from from [here](https://dq-content.s3.amazonaws.com/350/AppleStore.csv)\n",
    "\n"
   ]
  },
  {
   "cell_type": "markdown",
   "metadata": {},
   "source": [
    "## 1. Opening and exploring the data"
   ]
  },
  {
   "cell_type": "markdown",
   "metadata": {},
   "source": [
    "\n",
    "#### 1.1 Opening\n",
    "\n",
    "The first steps we need to do before exploring the data are opening  reading in and giving the name to the datasets. We will call the datasets as `apple_store`and `google_play_store` correspondingly:"
   ]
  },
  {
   "cell_type": "code",
   "execution_count": 96,
   "metadata": {},
   "outputs": [],
   "source": [
    "from csv import reader\n",
    "# The App Store data set:\n",
    "opened_file = open('AppleStore.csv', encoding='utf8')\n",
    "readed_file = reader(opened_file)\n",
    "apple_store = list(readed_file)\n",
    "apple_store_header = apple_store[0]\n",
    "apple_store_noheader = apple_store[1:]\n",
    "#The Google Play data set:\n",
    "opened_file = open('googleplaystore.csv', encoding='utf8')\n",
    "readed_file = reader(opened_file)\n",
    "google_play_store = list(readed_file)\n",
    "google_play_store_header = google_play_store[0]\n",
    "google_play_store_noheader = google_play_store[1:]"
   ]
  },
  {
   "cell_type": "markdown",
   "metadata": {},
   "source": [
    "#### 1.2 Exploring\n",
    "\n",
    "It would be easier to understand the data if there would be a function providing an analyst with a short intro about the dataset. So, let's create such one:"
   ]
  },
  {
   "cell_type": "code",
   "execution_count": 97,
   "metadata": {},
   "outputs": [],
   "source": [
    "def explore_data(dataset, start, end, rows_and_columns=False):\n",
    "    dataset_slice = dataset[start:end]    \n",
    "    for row in dataset_slice:\n",
    "        print(row)\n",
    "        print('\\n')\n",
    "#defining the option to print out the number of rows and columns in the dataset\n",
    "    if rows_and_columns:\n",
    "        print('Number of rows:', len(dataset))\n",
    "        print('Number of columns:', len(dataset[0]))"
   ]
  },
  {
   "cell_type": "markdown",
   "metadata": {},
   "source": [
    "1.3 Now let's take a quick glance on the datasets we have by using the function `explore_data`, which we previously created :"
   ]
  },
  {
   "cell_type": "code",
   "execution_count": 98,
   "metadata": {},
   "outputs": [
    {
     "name": "stdout",
     "output_type": "stream",
     "text": [
      "['id', 'track_name', 'size_bytes', 'currency', 'price', 'rating_count_tot', 'rating_count_ver', 'user_rating', 'user_rating_ver', 'ver', 'cont_rating', 'prime_genre', 'sup_devices.num', 'ipadSc_urls.num', 'lang.num', 'vpp_lic']\n",
      "\n",
      "\n",
      "['284882215', 'Facebook', '389879808', 'USD', '0.0', '2974676', '212', '3.5', '3.5', '95.0', '4+', 'Social Networking', '37', '1', '29', '1']\n",
      "\n",
      "\n",
      "['389801252', 'Instagram', '113954816', 'USD', '0.0', '2161558', '1289', '4.5', '4.0', '10.23', '12+', 'Photo & Video', '37', '0', '29', '1']\n",
      "\n",
      "\n",
      "Number of rows: 7197\n",
      "Number of columns: 16\n"
     ]
    }
   ],
   "source": [
    "print(apple_store_header)\n",
    "print('\\n')\n",
    "explore_data(apple_store_noheader, 0, 2, rows_and_columns=True)"
   ]
  },
  {
   "cell_type": "code",
   "execution_count": 99,
   "metadata": {
    "scrolled": true
   },
   "outputs": [
    {
     "name": "stdout",
     "output_type": "stream",
     "text": [
      "['App', 'Category', 'Rating', 'Reviews', 'Size', 'Installs', 'Type', 'Price', 'Content Rating', 'Genres', 'Last Updated', 'Current Ver', 'Android Ver']\n",
      "\n",
      "\n",
      "['Photo Editor & Candy Camera & Grid & ScrapBook', 'ART_AND_DESIGN', '4.1', '159', '19M', '10,000+', 'Free', '0', 'Everyone', 'Art & Design', 'January 7, 2018', '1.0.0', '4.0.3 and up']\n",
      "\n",
      "\n",
      "['Coloring book moana', 'ART_AND_DESIGN', '3.9', '967', '14M', '500,000+', 'Free', '0', 'Everyone', 'Art & Design;Pretend Play', 'January 15, 2018', '2.0.0', '4.0.3 and up']\n",
      "\n",
      "\n",
      "Number of rows: 10841\n",
      "Number of columns: 13\n"
     ]
    }
   ],
   "source": [
    "print(google_play_store_header)\n",
    "print('\\n')\n",
    "explore_data(google_play_store_noheader, 0, 2, rows_and_columns=True)"
   ]
  },
  {
   "cell_type": "markdown",
   "metadata": {},
   "source": [
    "You may note that some column names of the Apple Store dataset are not self-explanatory. Description of each column name and other usefull information about the datasets are presented on the Kaggle's website.\n",
    "[Apple Store](https://www.kaggle.com/ramamet4/app-store-apple-data-set-10k-apps/home?select=AppleStore.csv)\n",
    "[Google Play](https://www.kaggle.com/lava18/google-play-store-apps)"
   ]
  },
  {
   "cell_type": "markdown",
   "metadata": {},
   "source": [
    "## 2. Data Cleaning"
   ]
  },
  {
   "cell_type": "markdown",
   "metadata": {},
   "source": [
    "Before analyzing we have to prepare the datasets by checking for errors and duplicates because if there are incorrect data points the results would be affected and highly likely inaccurate. We should delete or correct data points having errors. Duplicates should be deleted also.\n",
    "\n"
   ]
  },
  {
   "cell_type": "markdown",
   "metadata": {},
   "source": [
    "#### 2.1 Errors\n",
    "\n",
    "While reading discussion section of the [Google Play data set](https://www.kaggle.com/lava18/google-play-store-apps) , the analyst found someone's post telling that there is the wrong entry for 10472 row. Let's check it.\n"
   ]
  },
  {
   "cell_type": "code",
   "execution_count": 100,
   "metadata": {},
   "outputs": [
    {
     "name": "stdout",
     "output_type": "stream",
     "text": [
      "['App', 'Category', 'Rating', 'Reviews', 'Size', 'Installs', 'Type', 'Price', 'Content Rating', 'Genres', 'Last Updated', 'Current Ver', 'Android Ver']\n",
      "\n",
      "\n",
      "['Life Made WI-Fi Touchscreen Photo Frame', '1.9', '19', '3.0M', '1,000+', 'Free', '0', 'Everyone', '', 'February 11, 2018', '1.0.19', '4.0 and up']\n",
      "\n",
      "\n"
     ]
    }
   ],
   "source": [
    "print(google_play_store_header)\n",
    "print('\\n')\n",
    "print(google_play_store_noheader[10472])\n",
    "print('\\n')"
   ]
  },
  {
   "cell_type": "markdown",
   "metadata": {},
   "source": [
    "After printing out the 10472-th row you can see that there is the value of 19 within `rating` column. Taking into account that the max value for this column is 5, it is obviously the mistake. The reason behind this error is the absence of the value in the `Category` column, as a result all other data enries within 10472-th row starting from `Rating` and ending with `Android Ver` were offseted to the left. Let's show it:"
   ]
  },
  {
   "cell_type": "code",
   "execution_count": 101,
   "metadata": {},
   "outputs": [
    {
     "name": "stdout",
     "output_type": "stream",
     "text": [
      "The number of columns at 10472 row: 12\n",
      "The number of columns at 566 row: 13\n",
      "The number of columns at 9985 row: 13\n"
     ]
    }
   ],
   "source": [
    "print('The number of columns at 10472 row:',len(google_play_store_noheader[10472]))\n",
    "print('The number of columns at 566 row:',len(google_play_store_noheader[566]))\n",
    "print('The number of columns at 9985 row:',len(google_play_store_noheader[9985]))"
   ]
  },
  {
   "cell_type": "markdown",
   "metadata": {},
   "source": [
    "As a consequence, we decided to remove that row"
   ]
  },
  {
   "cell_type": "code",
   "execution_count": 102,
   "metadata": {},
   "outputs": [
    {
     "name": "stdout",
     "output_type": "stream",
     "text": [
      "Number of rows before removing: 10841\n",
      "Number of rows after removing: 10840\n"
     ]
    }
   ],
   "source": [
    "print('Number of rows before removing:',len(google_play_store_noheader))\n",
    "del(google_play_store_noheader[10472])\n",
    "print('Number of rows after removing:',len(google_play_store_noheader))"
   ]
  },
  {
   "cell_type": "markdown",
   "metadata": {},
   "source": [
    "#### 2.2 Duplicates.\n",
    "\n",
    "##### 2.2.1 Checking for duplicates.\n",
    "Let's check our data set for having duplicates. For this purpose we will create the following function:"
   ]
  },
  {
   "cell_type": "code",
   "execution_count": 103,
   "metadata": {},
   "outputs": [],
   "source": [
    "def duplicates(dataset, index, Numbers=False, Examples=False):\n",
    "    unique_apps = []\n",
    "    duplicate_apps = []\n",
    "    for row in dataset:\n",
    "        name = row[index]\n",
    "        if name in unique_apps:\n",
    "            duplicate_apps.append(name)\n",
    "        else:\n",
    "            unique_apps.append(name)\n",
    "    if Numbers:    \n",
    "        print('The number of the unique apps:', len(unique_apps))\n",
    "        print('The number of the duplicate apps:', len(duplicate_apps))\n",
    "        \n",
    "    if Examples:\n",
    "        print(duplicate_apps[0:15])"
   ]
  },
  {
   "cell_type": "code",
   "execution_count": 104,
   "metadata": {},
   "outputs": [
    {
     "name": "stdout",
     "output_type": "stream",
     "text": [
      "The Google Play Market dataset: \n",
      "The number of the unique apps: 9659\n",
      "The number of the duplicate apps: 1181\n"
     ]
    }
   ],
   "source": [
    "print('The Google Play Market dataset: ')\n",
    "duplicates(google_play_store_noheader, 0, Numbers=True )"
   ]
  },
  {
   "cell_type": "code",
   "execution_count": 105,
   "metadata": {},
   "outputs": [
    {
     "name": "stdout",
     "output_type": "stream",
     "text": [
      "The Apple Store dataset: \n",
      "The number of the unique apps: 7195\n",
      "The number of the duplicate apps: 2\n"
     ]
    }
   ],
   "source": [
    "print('The Apple Store dataset: ')\n",
    "duplicates(apple_store_noheader, 1, Numbers=True)"
   ]
  },
  {
   "cell_type": "markdown",
   "metadata": {},
   "source": [
    "The results we obtained show that there are *1181* duplicate apps in the Google Play market and *2* in the Apple Store. Let's provide some examples of it:"
   ]
  },
  {
   "cell_type": "code",
   "execution_count": 106,
   "metadata": {},
   "outputs": [
    {
     "name": "stdout",
     "output_type": "stream",
     "text": [
      "Examples of duplicates in Google Play dataset:\n",
      "\n",
      "['Quick PDF Scanner + OCR FREE', 'Box', 'Google My Business', 'ZOOM Cloud Meetings', 'join.me - Simple Meetings', 'Box', 'Zenefits', 'Google Ads', 'Google My Business', 'Slack', 'FreshBooks Classic', 'Insightly CRM', 'QuickBooks Accounting: Invoicing & Expenses', 'HipChat - Chat Built for Teams', 'Xero Accounting Software']\n"
     ]
    }
   ],
   "source": [
    "print('Examples of duplicates in Google Play dataset:')\n",
    "print()\n",
    "duplicates(google_play_store_noheader, 0, Examples=True) \n"
   ]
  },
  {
   "cell_type": "code",
   "execution_count": 107,
   "metadata": {},
   "outputs": [
    {
     "name": "stdout",
     "output_type": "stream",
     "text": [
      "Examples of duplicates in Apple Store dataset:\n",
      "\n",
      "['Mannequin Challenge', 'VR Roller Coaster']\n"
     ]
    }
   ],
   "source": [
    "print('Examples of duplicates in Apple Store dataset:')\n",
    "print()\n",
    "duplicates(apple_store_noheader, 1, Examples=True) "
   ]
  },
  {
   "cell_type": "markdown",
   "metadata": {},
   "source": [
    "As we said earlier,  we need to remove the duplicate entries and keep only one entry per app. One thing we could do is to remove the duplicate rows randomly, but we could probably find a better way. We can try to find the reason why there are more than one data entry for some apps. Let's see:"
   ]
  },
  {
   "cell_type": "code",
   "execution_count": 108,
   "metadata": {},
   "outputs": [
    {
     "name": "stdout",
     "output_type": "stream",
     "text": [
      "['Instagram', 'SOCIAL', '4.5', '66577313', 'Varies with device', '1,000,000,000+', 'Free', '0', 'Teen', 'Social', 'July 31, 2018', 'Varies with device', 'Varies with device']\n",
      "['Instagram', 'SOCIAL', '4.5', '66577446', 'Varies with device', '1,000,000,000+', 'Free', '0', 'Teen', 'Social', 'July 31, 2018', 'Varies with device', 'Varies with device']\n",
      "['Instagram', 'SOCIAL', '4.5', '66577313', 'Varies with device', '1,000,000,000+', 'Free', '0', 'Teen', 'Social', 'July 31, 2018', 'Varies with device', 'Varies with device']\n",
      "['Instagram', 'SOCIAL', '4.5', '66509917', 'Varies with device', '1,000,000,000+', 'Free', '0', 'Teen', 'Social', 'July 31, 2018', 'Varies with device', 'Varies with device']\n"
     ]
    }
   ],
   "source": [
    "for i in google_play_store_noheader:\n",
    "    name = i[0]\n",
    "    if name == 'Instagram':\n",
    "        print(i)"
   ]
  },
  {
   "cell_type": "markdown",
   "metadata": {},
   "source": [
    "The main difference happens on the fourth position of each row, which corresponds to the number of reviews. The different numbers is due to the data was collected at different time. It will be our criterion to remove the duplicates."
   ]
  },
  {
   "cell_type": "markdown",
   "metadata": {},
   "source": [
    "##### 2.2.2 Deleting Duplicate entries\n",
    "\n",
    "Lets create a new dictionary from the google play data set, which will store name of each app (key) with the corresponding maximal number of reviews for this particular app(value)."
   ]
  },
  {
   "cell_type": "code",
   "execution_count": 109,
   "metadata": {},
   "outputs": [],
   "source": [
    "review_max ={}\n",
    "\n",
    "for i in google_play_store_noheader:\n",
    "    name = i[0]\n",
    "    n_reviews = float(i[3])\n",
    "    \n",
    "    if name in review_max and review_max[name] < n_reviews:\n",
    "        review_max[name] = n_reviews\n",
    "    \n",
    "    if name not in review_max:\n",
    "        review_max[name] = n_reviews"
   ]
  },
  {
   "cell_type": "markdown",
   "metadata": {},
   "source": [
    "Earlier, we have found that there are 1181 duplicate data entries. So lets check how many unique data entries we have after creation a dictionary"
   ]
  },
  {
   "cell_type": "code",
   "execution_count": 110,
   "metadata": {},
   "outputs": [
    {
     "name": "stdout",
     "output_type": "stream",
     "text": [
      "Expected lenght: 9659\n",
      "Actual lenght: 9659\n"
     ]
    }
   ],
   "source": [
    "print('Expected lenght:', len(google_play_store_noheader)-1181)\n",
    "print('Actual lenght:', len(review_max))"
   ]
  },
  {
   "cell_type": "markdown",
   "metadata": {},
   "source": [
    "After we make sure that we have exact number of unique data entries in our dictionary lets make a new data set.\n",
    "\n",
    "1. First of all, we will create two new lists `android_clean` (out new data set where we will write down each app with the highes number of reviews to) and `already_added` (where we will write already added data entries to).\n",
    "\n",
    "2. Then we will iterate over `google_play_store_noheader`.\n",
    "\n",
    "3. We isolate the name and the number of reviews from each row.\n",
    "\n",
    "4. Then we create two conditions. The first one is if the number of reviews corresponds to the value we have in our dictionary and the second one is if the name of the app is already in `already_added` list. The second condition is needed to avoid cases when we will have duplicate cases with equal maximal number of reviews. For example for one app we can have 2 maximal number of reviews.\n"
   ]
  },
  {
   "cell_type": "code",
   "execution_count": 111,
   "metadata": {},
   "outputs": [],
   "source": [
    "android_clean = []\n",
    "already_added = []\n",
    "\n",
    "for i in google_play_store_noheader:\n",
    "    name = i[0]\n",
    "    n_reviews = float(i[3])\n",
    "    \n",
    "    if n_reviews == review_max[name] and name not in already_added:\n",
    "        android_clean.append(i)\n",
    "        already_added.append(name)"
   ]
  },
  {
   "cell_type": "markdown",
   "metadata": {},
   "source": [
    "Now lets explore our new data set"
   ]
  },
  {
   "cell_type": "code",
   "execution_count": 112,
   "metadata": {},
   "outputs": [
    {
     "name": "stdout",
     "output_type": "stream",
     "text": [
      "['Photo Editor & Candy Camera & Grid & ScrapBook', 'ART_AND_DESIGN', '4.1', '159', '19M', '10,000+', 'Free', '0', 'Everyone', 'Art & Design', 'January 7, 2018', '1.0.0', '4.0.3 and up']\n",
      "\n",
      "\n",
      "['U Launcher Lite – FREE Live Cool Themes, Hide Apps', 'ART_AND_DESIGN', '4.7', '87510', '8.7M', '5,000,000+', 'Free', '0', 'Everyone', 'Art & Design', 'August 1, 2018', '1.2.4', '4.0.3 and up']\n",
      "\n",
      "\n",
      "['Sketch - Draw & Paint', 'ART_AND_DESIGN', '4.5', '215644', '25M', '50,000,000+', 'Free', '0', 'Teen', 'Art & Design', 'June 8, 2018', 'Varies with device', '4.2 and up']\n",
      "\n",
      "\n",
      "Number of rows: 9659\n",
      "Number of columns: 13\n"
     ]
    }
   ],
   "source": [
    "explore_data(android_clean, 0, 3, rows_and_columns=True)"
   ]
  },
  {
   "cell_type": "markdown",
   "metadata": {},
   "source": [
    "Now we can see that we have exact number of unique apps as expected"
   ]
  },
  {
   "cell_type": "markdown",
   "metadata": {},
   "source": [
    "Lets do the same with the App Store data set. We firstly creare a dictionary with the highest numbers of reviews `rating_count_tot` as a primary condition to avoid duplicates."
   ]
  },
  {
   "cell_type": "code",
   "execution_count": 113,
   "metadata": {},
   "outputs": [
    {
     "name": "stdout",
     "output_type": "stream",
     "text": [
      "Expected lenght: 7195\n",
      "Actual lenght: 7195\n"
     ]
    }
   ],
   "source": [
    "appstore_dictionary = {}\n",
    "\n",
    "for row in apple_store_noheader:\n",
    "    name = row[1]\n",
    "    appstore_max_reviews = float(row[5])\n",
    "    \n",
    "    if name not in appstore_dictionary:\n",
    "        appstore_dictionary[name] = appstore_max_reviews\n",
    "    \n",
    "    if name in appstore_dictionary and appstore_dictionary[name] < appstore_max_reviews:\n",
    "        appstore_dictionary[name] = appstore_max_reviews\n",
    "\n",
    "print('Expected lenght:', len(apple_store_noheader)-2)\n",
    "print('Actual lenght:',len(appstore_dictionary))\n",
    "    "
   ]
  },
  {
   "cell_type": "markdown",
   "metadata": {},
   "source": [
    "After we created a new dictionary that stores unique data entries with the highest number of reviews lets create a new data set."
   ]
  },
  {
   "cell_type": "code",
   "execution_count": 114,
   "metadata": {},
   "outputs": [],
   "source": [
    "appstore_clean = []\n",
    "appstore_already_added = []\n",
    "\n",
    "for row in apple_store_noheader:\n",
    "    name = row[1]\n",
    "    n_reviews_appstore = float(row[5])\n",
    "    \n",
    "    if  appstore_dictionary[name] == n_reviews_appstore and name not in appstore_already_added:\n",
    "        appstore_clean.append(row)\n",
    "        appstore_already_added.append(name)\n",
    "        "
   ]
  },
  {
   "cell_type": "markdown",
   "metadata": {},
   "source": [
    "Lets explore our new cleaned data set for App Store"
   ]
  },
  {
   "cell_type": "code",
   "execution_count": 115,
   "metadata": {},
   "outputs": [
    {
     "name": "stdout",
     "output_type": "stream",
     "text": [
      "['284882215', 'Facebook', '389879808', 'USD', '0.0', '2974676', '212', '3.5', '3.5', '95.0', '4+', 'Social Networking', '37', '1', '29', '1']\n",
      "\n",
      "\n",
      "['389801252', 'Instagram', '113954816', 'USD', '0.0', '2161558', '1289', '4.5', '4.0', '10.23', '12+', 'Photo & Video', '37', '0', '29', '1']\n",
      "\n",
      "\n",
      "['529479190', 'Clash of Clans', '116476928', 'USD', '0.0', '2130805', '579', '4.5', '4.5', '9.24.12', '9+', 'Games', '38', '5', '18', '1']\n",
      "\n",
      "\n",
      "Number of rows: 7195\n",
      "Number of columns: 16\n"
     ]
    }
   ],
   "source": [
    "explore_data(appstore_clean, 0, 3, rows_and_columns=True)"
   ]
  },
  {
   "cell_type": "markdown",
   "metadata": {},
   "source": [
    "Number of rows is (7195) as expected"
   ]
  },
  {
   "cell_type": "markdown",
   "metadata": {},
   "source": [
    "So now we have two cleaned from duplicates data sets. They are  `android_clean` and `appstore_clean`"
   ]
  },
  {
   "cell_type": "markdown",
   "metadata": {},
   "source": [
    "#### 2.3  Removing Non-English apps.\n",
    "\n"
   ]
  },
  {
   "cell_type": "markdown",
   "metadata": {},
   "source": [
    "If we explore both datasets , we will find apps with Non-English names. We should avoid such apps in our analysis because our team develops apps directed only to English-speaking audience. Lower you can find examples of Non-English apps."
   ]
  },
  {
   "cell_type": "code",
   "execution_count": 116,
   "metadata": {},
   "outputs": [
    {
     "name": "stdout",
     "output_type": "stream",
     "text": [
      "爱奇艺PPS -《欢乐颂2》电视剧热播\n",
      "激ムズ！和のひとふで書き！ 〜頭をつかう脳トレパズルゲーム〜\n",
      "\n",
      "\n",
      "中国語 AQリスニング\n",
      "لعبة تقدر تربح DZ\n"
     ]
    }
   ],
   "source": [
    "print(appstore_clean[813][1])\n",
    "print(appstore_clean[6731][1])\n",
    "print('\\n')\n",
    "print(android_clean[4412][0])\n",
    "print(android_clean[7940][0])"
   ]
  },
  {
   "cell_type": "markdown",
   "metadata": {},
   "source": [
    "Each string has its corresponding number if we use build-in function ord() on it. For example, for character `'A'` corresponding number is 65, character`'a'` is 97, and character `'激'` is 28608."
   ]
  },
  {
   "cell_type": "code",
   "execution_count": 117,
   "metadata": {},
   "outputs": [
    {
     "name": "stdout",
     "output_type": "stream",
     "text": [
      "53\n",
      "45\n",
      "65\n",
      "28608\n"
     ]
    }
   ],
   "source": [
    "print(ord('5'))\n",
    "print(ord('-'))\n",
    "print(ord('A'))\n",
    "print(ord('激'))"
   ]
  },
  {
   "cell_type": "markdown",
   "metadata": {},
   "source": [
    "Usually, the numbers corresponding to the characters we commonly use in an English text are all in the range 0 to 127, according to the [ASCII](https://en.wikipedia.org/wiki/ASCII). Using this fact we can create a function which will iterate over each name and each character to check whether it lies in the range 0 to 127 or not."
   ]
  },
  {
   "cell_type": "code",
   "execution_count": 118,
   "metadata": {},
   "outputs": [],
   "source": [
    "def is_english(word):    \n",
    "    for i in word:\n",
    "        if (ord(i)) > 127:\n",
    "            return False\n",
    "    return True"
   ]
  },
  {
   "cell_type": "markdown",
   "metadata": {},
   "source": [
    "After we created the function that identifies non-english apps lets check it on some examples:"
   ]
  },
  {
   "cell_type": "code",
   "execution_count": 119,
   "metadata": {},
   "outputs": [
    {
     "name": "stdout",
     "output_type": "stream",
     "text": [
      "True\n",
      "False\n",
      "False\n",
      "False\n"
     ]
    }
   ],
   "source": [
    "a = 'Instagram'\n",
    "b = '爱奇艺PPS -《欢乐颂2》电视剧热播'\n",
    "c = 'Docs To Go™ Free Office Suite'\n",
    "d = 'Instachat 😜'\n",
    "\n",
    "print(is_english(a))\n",
    "print(is_english(b))\n",
    "print(is_english(c))\n",
    "print(is_english(d))\n"
   ]
  },
  {
   "cell_type": "markdown",
   "metadata": {},
   "source": [
    "We can see that function returned False in the last two examples: `'Docs To Go™ Free Office Suite'` and `'Instachat 😜'`. This happened bacause apps names have `'™'` and `'😜'` characters. "
   ]
  },
  {
   "cell_type": "code",
   "execution_count": 120,
   "metadata": {},
   "outputs": [
    {
     "name": "stdout",
     "output_type": "stream",
     "text": [
      "8482\n",
      "128540\n"
     ]
    }
   ],
   "source": [
    "print(ord('™'))\n",
    "print(ord('😜'))"
   ]
  },
  {
   "cell_type": "markdown",
   "metadata": {},
   "source": [
    "After we have realized that fact we need to modify our function.The fucntion will return False only if an app name has more than three characters with corresponding numbers higher than 127 (like a filter)."
   ]
  },
  {
   "cell_type": "code",
   "execution_count": 121,
   "metadata": {},
   "outputs": [],
   "source": [
    "def is_english(name):\n",
    "    asci = 0\n",
    "    for i in name:\n",
    "        if ord(i) > 127: \n",
    "            asci += 1 \n",
    "            \n",
    "    if asci > 3:\n",
    "        return False\n",
    "    else:\n",
    "        return True\n",
    "            \n",
    "        "
   ]
  },
  {
   "cell_type": "code",
   "execution_count": 122,
   "metadata": {},
   "outputs": [
    {
     "name": "stdout",
     "output_type": "stream",
     "text": [
      "True\n",
      "True\n",
      "False\n"
     ]
    }
   ],
   "source": [
    "a = 'Docs To Go™ Free Office Suite'\n",
    "b = 'Instachat 😜'\n",
    "c = '爱奇艺PPS -《欢乐颂2》电视剧热播'\n",
    "\n",
    "print(is_english(a))\n",
    "print(is_english(b))\n",
    "print(is_english(c))"
   ]
  },
  {
   "cell_type": "markdown",
   "metadata": {},
   "source": [
    "Now lets create a new function to delete non-english apps from our datasets"
   ]
  },
  {
   "cell_type": "code",
   "execution_count": 123,
   "metadata": {},
   "outputs": [
    {
     "name": "stdout",
     "output_type": "stream",
     "text": [
      "Cleaned from duplicates and non-english apps Google Play dataset: \n",
      "\n",
      "['Photo Editor & Candy Camera & Grid & ScrapBook', 'ART_AND_DESIGN', '4.1', '159', '19M', '10,000+', 'Free', '0', 'Everyone', 'Art & Design', 'January 7, 2018', '1.0.0', '4.0.3 and up']\n",
      "\n",
      "\n",
      "['U Launcher Lite – FREE Live Cool Themes, Hide Apps', 'ART_AND_DESIGN', '4.7', '87510', '8.7M', '5,000,000+', 'Free', '0', 'Everyone', 'Art & Design', 'August 1, 2018', '1.2.4', '4.0.3 and up']\n",
      "\n",
      "\n",
      "['Sketch - Draw & Paint', 'ART_AND_DESIGN', '4.5', '215644', '25M', '50,000,000+', 'Free', '0', 'Teen', 'Art & Design', 'June 8, 2018', 'Varies with device', '4.2 and up']\n",
      "\n",
      "\n",
      "['Pixel Draw - Number Art Coloring Book', 'ART_AND_DESIGN', '4.3', '967', '2.8M', '100,000+', 'Free', '0', 'Everyone', 'Art & Design;Creativity', 'June 20, 2018', '1.1', '4.4 and up']\n",
      "\n",
      "\n",
      "Number of rows: 9614\n",
      "Number of columns: 13\n",
      "\n",
      "\n",
      "Cleaned from duplicates and non-english apps Appstore dataset: \n",
      "\n",
      "['284882215', 'Facebook', '389879808', 'USD', '0.0', '2974676', '212', '3.5', '3.5', '95.0', '4+', 'Social Networking', '37', '1', '29', '1']\n",
      "\n",
      "\n",
      "['389801252', 'Instagram', '113954816', 'USD', '0.0', '2161558', '1289', '4.5', '4.0', '10.23', '12+', 'Photo & Video', '37', '0', '29', '1']\n",
      "\n",
      "\n",
      "['529479190', 'Clash of Clans', '116476928', 'USD', '0.0', '2130805', '579', '4.5', '4.5', '9.24.12', '9+', 'Games', '38', '5', '18', '1']\n",
      "\n",
      "\n",
      "['420009108', 'Temple Run', '65921024', 'USD', '0.0', '1724546', '3842', '4.5', '4.0', '1.6.2', '9+', 'Games', '40', '5', '1', '1']\n",
      "\n",
      "\n",
      "Number of rows: 6181\n",
      "Number of columns: 16\n"
     ]
    }
   ],
   "source": [
    "android_clean_english = []\n",
    "appstore_clean_english = []\n",
    "\n",
    "for i in android_clean:\n",
    "    name = i[0]\n",
    "    if is_english(name):\n",
    "        android_clean_english.append(i)\n",
    "\n",
    "for i in appstore_clean:\n",
    "    name = i[1]\n",
    "    if is_english(name):\n",
    "        appstore_clean_english.append(i)\n",
    "        \n",
    "print('Cleaned from duplicates and non-english apps Google Play dataset:','\\n')        \n",
    "explore_data(android_clean_english, 0 , 4, rows_and_columns= True)\n",
    "print('\\n')\n",
    "print('Cleaned from duplicates and non-english apps Appstore dataset:', '\\n')\n",
    "explore_data(appstore_clean_english,0, 4, rows_and_columns= True)"
   ]
  },
  {
   "cell_type": "markdown",
   "metadata": {},
   "source": [
    "We can see that we're left with 9614 Android apps and 6183 iOS apps."
   ]
  },
  {
   "cell_type": "markdown",
   "metadata": {},
   "source": [
    "#### 2.4 Filtering free apps\n",
    "\n",
    "It should be noted again that our company develops only free apps and that the main source of revenue is in-app ads. Therefore we should avoid paid apps in our analysis. We will create two new lists `android_free` and `appstore_free`, then iterate over existing datasets to check whether the app has zero price or not. If it has then we append the whole data entry to the new created lists.\n"
   ]
  },
  {
   "cell_type": "code",
   "execution_count": 124,
   "metadata": {},
   "outputs": [
    {
     "name": "stdout",
     "output_type": "stream",
     "text": [
      "['Photo Editor & Candy Camera & Grid & ScrapBook', 'ART_AND_DESIGN', '4.1', '159', '19M', '10,000+', 'Free', '0', 'Everyone', 'Art & Design', 'January 7, 2018', '1.0.0', '4.0.3 and up']\n",
      "\n",
      "\n",
      "['U Launcher Lite – FREE Live Cool Themes, Hide Apps', 'ART_AND_DESIGN', '4.7', '87510', '8.7M', '5,000,000+', 'Free', '0', 'Everyone', 'Art & Design', 'August 1, 2018', '1.2.4', '4.0.3 and up']\n",
      "\n",
      "\n",
      "['Sketch - Draw & Paint', 'ART_AND_DESIGN', '4.5', '215644', '25M', '50,000,000+', 'Free', '0', 'Teen', 'Art & Design', 'June 8, 2018', 'Varies with device', '4.2 and up']\n",
      "\n",
      "\n",
      "Number of rows: 8864\n",
      "Number of columns: 13\n",
      "\n",
      "\n",
      "['284882215', 'Facebook', '389879808', 'USD', '0.0', '2974676', '212', '3.5', '3.5', '95.0', '4+', 'Social Networking', '37', '1', '29', '1']\n",
      "\n",
      "\n",
      "['389801252', 'Instagram', '113954816', 'USD', '0.0', '2161558', '1289', '4.5', '4.0', '10.23', '12+', 'Photo & Video', '37', '0', '29', '1']\n",
      "\n",
      "\n",
      "['529479190', 'Clash of Clans', '116476928', 'USD', '0.0', '2130805', '579', '4.5', '4.5', '9.24.12', '9+', 'Games', '38', '5', '18', '1']\n",
      "\n",
      "\n",
      "Number of rows: 3220\n",
      "Number of columns: 16\n"
     ]
    }
   ],
   "source": [
    "android_free = []\n",
    "appstore_free = []\n",
    "\n",
    "for app in android_clean_english:\n",
    "    price = app[7]\n",
    "    if price == '0':\n",
    "        android_free.append(app)\n",
    "\n",
    "for app in appstore_clean_english:\n",
    "    price = app[4]\n",
    "    if price == '0.0':\n",
    "        appstore_free.append(app)\n",
    "        \n",
    "\n",
    "explore_data(android_free,0,3,rows_and_columns = True)\n",
    "print('\\n')\n",
    "explore_data(appstore_free,0,3,rows_and_columns = True)\n",
    "\n"
   ]
  },
  {
   "cell_type": "markdown",
   "metadata": {},
   "source": [
    "We can see that we're left with 3220 iOS apps and 8864 Android apps"
   ]
  },
  {
   "cell_type": "markdown",
   "metadata": {},
   "source": [
    "### 3. Most common apps "
   ]
  },
  {
   "cell_type": "markdown",
   "metadata": {},
   "source": [
    "The main aim of our analysis is to determine the kind of apps that are likely to attract more users because our revenues are influenced by the number of people using our apps. Our validation strategy for an app idea comprised of the following steps:\n",
    "\n",
    "1. Create an app for Android and add it to the google play market.\n",
    "2. If the app has a good response from users we develop it further.\n",
    "3. If the app is still profitable after 6 month, we build an iOS version of the app and add it to the AppStore."
   ]
  },
  {
   "cell_type": "markdown",
   "metadata": {},
   "source": [
    "Lets explore our dataset for the most common genres. First of all, lets create a frequency table for the `prime_genre` column for the `appstore_free` dataset and frequency tables for the `Category` and `genres` columns for the `android_free` dataset."
   ]
  },
  {
   "cell_type": "code",
   "execution_count": 125,
   "metadata": {},
   "outputs": [
    {
     "data": {
      "text/plain": [
       "{'Social Networking': 3.29,\n",
       " 'Photo & Video': 4.97,\n",
       " 'Games': 58.14,\n",
       " 'Music': 2.05,\n",
       " 'Reference': 0.56,\n",
       " 'Health & Fitness': 2.02,\n",
       " 'Weather': 0.87,\n",
       " 'Utilities': 2.52,\n",
       " 'Travel': 1.24,\n",
       " 'Shopping': 2.61,\n",
       " 'News': 1.34,\n",
       " 'Navigation': 0.19,\n",
       " 'Lifestyle': 1.58,\n",
       " 'Entertainment': 7.89,\n",
       " 'Food & Drink': 0.81,\n",
       " 'Sports': 2.14,\n",
       " 'Book': 0.43,\n",
       " 'Finance': 1.12,\n",
       " 'Education': 3.66,\n",
       " 'Productivity': 1.74,\n",
       " 'Business': 0.53,\n",
       " 'Catalogs': 0.12,\n",
       " 'Medical': 0.19}"
      ]
     },
     "execution_count": 125,
     "metadata": {},
     "output_type": "execute_result"
    }
   ],
   "source": [
    "def frequency_table(dataset,index):\n",
    "    freq_table = {}\n",
    "    total = 0\n",
    "\n",
    "    for row in dataset:\n",
    "        total += 1\n",
    "        genre = row[index]\n",
    "    \n",
    "        if genre in freq_table:\n",
    "            freq_table[genre] +=1\n",
    "    \n",
    "        if genre not in freq_table:\n",
    "            freq_table[genre] = 1 \n",
    "    \n",
    "    percentage_table = {}    #dictionary with absolute values {key:value}\n",
    "    \n",
    "    for key in freq_table:\n",
    "        percentage = round(freq_table[key] / total * 100,2) \n",
    "        percentage_table[key] = percentage \n",
    "        \n",
    "    return percentage_table    #return the dictionary with relative values\n",
    "\n",
    "frequency_table(appstore_free, 11)"
   ]
  },
  {
   "cell_type": "markdown",
   "metadata": {},
   "source": [
    "We can see that data entries are not sorted by percentage. We want to have a frequency table with descending order - from highest percentage to lowest. The build-in function `sorted()` does not work well with dictionaries because it only considers and returns the dictionary keys. However, the `sorted()` function works well with tuples. Lets write a function which transforms dictionary to tuple and sort our data entries by descending order.\n"
   ]
  },
  {
   "cell_type": "code",
   "execution_count": 126,
   "metadata": {},
   "outputs": [],
   "source": [
    "def display_table(dataset, index):\n",
    "    table1 = frequency_table(dataset, index)      #type = dictionary\n",
    "    table_display = []                            #empty list\n",
    "    \n",
    "    for key in table1:                    #appending each tuple to new list\n",
    "        tuple1 = (table1[key], key)\n",
    "        table_display.append(tuple1)\n",
    "        \n",
    "    table_sorted = sorted(table_display, reverse = True)  #list of tuples sorted\n",
    "    \n",
    "    for entry in table_sorted:\n",
    "        print(entry[1],':',entry[0],'%')"
   ]
  },
  {
   "cell_type": "code",
   "execution_count": 127,
   "metadata": {
    "scrolled": true
   },
   "outputs": [
    {
     "name": "stdout",
     "output_type": "stream",
     "text": [
      "Games : 58.14 %\n",
      "Entertainment : 7.89 %\n",
      "Photo & Video : 4.97 %\n",
      "Education : 3.66 %\n",
      "Social Networking : 3.29 %\n",
      "Shopping : 2.61 %\n",
      "Utilities : 2.52 %\n",
      "Sports : 2.14 %\n",
      "Music : 2.05 %\n",
      "Health & Fitness : 2.02 %\n",
      "Productivity : 1.74 %\n",
      "Lifestyle : 1.58 %\n",
      "News : 1.34 %\n",
      "Travel : 1.24 %\n",
      "Finance : 1.12 %\n",
      "Weather : 0.87 %\n",
      "Food & Drink : 0.81 %\n",
      "Reference : 0.56 %\n",
      "Business : 0.53 %\n",
      "Book : 0.43 %\n",
      "Navigation : 0.19 %\n",
      "Medical : 0.19 %\n",
      "Catalogs : 0.12 %\n"
     ]
    }
   ],
   "source": [
    "display_table(appstore_free, 11)    #appstore + genre"
   ]
  },
  {
   "cell_type": "markdown",
   "metadata": {},
   "source": [
    "After analyzing the App Store data we can make a conclusion that among free and english apps the most popular genres are Games (58.4%) , Entertainment (7.89%) and Photo & Video (4.97%). Therefore the biggest part of apps is for Entertainment , not for practical purposes. But does it imply that these genres have a large number of users? However, the fact that fun apps are the most numerous doesn't also imply that they also have the greatest number of users — the demand might not be the same as the offer."
   ]
  },
  {
   "cell_type": "code",
   "execution_count": 128,
   "metadata": {
    "scrolled": true
   },
   "outputs": [
    {
     "name": "stdout",
     "output_type": "stream",
     "text": [
      "FAMILY : 18.91 %\n",
      "GAME : 9.72 %\n",
      "TOOLS : 8.46 %\n",
      "BUSINESS : 4.59 %\n",
      "LIFESTYLE : 3.9 %\n",
      "PRODUCTIVITY : 3.89 %\n",
      "FINANCE : 3.7 %\n",
      "MEDICAL : 3.53 %\n",
      "SPORTS : 3.4 %\n",
      "PERSONALIZATION : 3.32 %\n",
      "COMMUNICATION : 3.24 %\n",
      "HEALTH_AND_FITNESS : 3.08 %\n",
      "PHOTOGRAPHY : 2.94 %\n",
      "NEWS_AND_MAGAZINES : 2.8 %\n",
      "SOCIAL : 2.66 %\n",
      "TRAVEL_AND_LOCAL : 2.34 %\n",
      "SHOPPING : 2.25 %\n",
      "BOOKS_AND_REFERENCE : 2.14 %\n",
      "DATING : 1.86 %\n",
      "VIDEO_PLAYERS : 1.79 %\n",
      "MAPS_AND_NAVIGATION : 1.4 %\n",
      "FOOD_AND_DRINK : 1.24 %\n",
      "EDUCATION : 1.16 %\n",
      "ENTERTAINMENT : 0.96 %\n",
      "LIBRARIES_AND_DEMO : 0.94 %\n",
      "AUTO_AND_VEHICLES : 0.93 %\n",
      "HOUSE_AND_HOME : 0.82 %\n",
      "WEATHER : 0.8 %\n",
      "EVENTS : 0.71 %\n",
      "PARENTING : 0.65 %\n",
      "ART_AND_DESIGN : 0.64 %\n",
      "COMICS : 0.62 %\n",
      "BEAUTY : 0.6 %\n"
     ]
    }
   ],
   "source": [
    "display_table(android_free,1)       #Android + Category"
   ]
  },
  {
   "cell_type": "markdown",
   "metadata": {},
   "source": [
    "Compared with AppStore data, the most popular categories in the Google Play Market are for practical purposes (Family (18.91%), Tools (8.46%), Business (4.59) ) not Entertainment. Also, we can say that categories are more diversified (no category with share more than 20%)"
   ]
  },
  {
   "cell_type": "code",
   "execution_count": 129,
   "metadata": {
    "scrolled": true
   },
   "outputs": [
    {
     "name": "stdout",
     "output_type": "stream",
     "text": [
      "Tools : 8.45 %\n",
      "Entertainment : 6.07 %\n",
      "Education : 5.35 %\n",
      "Business : 4.59 %\n",
      "Productivity : 3.89 %\n",
      "Lifestyle : 3.89 %\n",
      "Finance : 3.7 %\n",
      "Medical : 3.53 %\n",
      "Sports : 3.46 %\n",
      "Personalization : 3.32 %\n",
      "Communication : 3.24 %\n",
      "Action : 3.1 %\n",
      "Health & Fitness : 3.08 %\n",
      "Photography : 2.94 %\n",
      "News & Magazines : 2.8 %\n",
      "Social : 2.66 %\n",
      "Travel & Local : 2.32 %\n",
      "Shopping : 2.25 %\n",
      "Books & Reference : 2.14 %\n",
      "Simulation : 2.04 %\n",
      "Dating : 1.86 %\n",
      "Arcade : 1.85 %\n",
      "Video Players & Editors : 1.77 %\n",
      "Casual : 1.76 %\n",
      "Maps & Navigation : 1.4 %\n",
      "Food & Drink : 1.24 %\n",
      "Puzzle : 1.13 %\n",
      "Racing : 0.99 %\n",
      "Role Playing : 0.94 %\n",
      "Libraries & Demo : 0.94 %\n",
      "Auto & Vehicles : 0.93 %\n",
      "Strategy : 0.91 %\n",
      "House & Home : 0.82 %\n",
      "Weather : 0.8 %\n",
      "Events : 0.71 %\n",
      "Adventure : 0.68 %\n",
      "Comics : 0.61 %\n",
      "Beauty : 0.6 %\n",
      "Art & Design : 0.6 %\n",
      "Parenting : 0.5 %\n",
      "Card : 0.45 %\n",
      "Casino : 0.43 %\n",
      "Trivia : 0.42 %\n",
      "Educational;Education : 0.39 %\n",
      "Board : 0.38 %\n",
      "Educational : 0.37 %\n",
      "Education;Education : 0.34 %\n",
      "Word : 0.26 %\n",
      "Casual;Pretend Play : 0.24 %\n",
      "Music : 0.2 %\n",
      "Racing;Action & Adventure : 0.17 %\n",
      "Puzzle;Brain Games : 0.17 %\n",
      "Entertainment;Music & Video : 0.17 %\n",
      "Casual;Brain Games : 0.14 %\n",
      "Casual;Action & Adventure : 0.14 %\n",
      "Arcade;Action & Adventure : 0.12 %\n",
      "Action;Action & Adventure : 0.1 %\n",
      "Educational;Pretend Play : 0.09 %\n",
      "Simulation;Action & Adventure : 0.08 %\n",
      "Parenting;Education : 0.08 %\n",
      "Entertainment;Brain Games : 0.08 %\n",
      "Board;Brain Games : 0.08 %\n",
      "Parenting;Music & Video : 0.07 %\n",
      "Educational;Brain Games : 0.07 %\n",
      "Casual;Creativity : 0.07 %\n",
      "Art & Design;Creativity : 0.07 %\n",
      "Education;Pretend Play : 0.06 %\n",
      "Role Playing;Pretend Play : 0.05 %\n",
      "Education;Creativity : 0.05 %\n",
      "Role Playing;Action & Adventure : 0.03 %\n",
      "Puzzle;Action & Adventure : 0.03 %\n",
      "Entertainment;Creativity : 0.03 %\n",
      "Entertainment;Action & Adventure : 0.03 %\n",
      "Educational;Creativity : 0.03 %\n",
      "Educational;Action & Adventure : 0.03 %\n",
      "Education;Music & Video : 0.03 %\n",
      "Education;Brain Games : 0.03 %\n",
      "Education;Action & Adventure : 0.03 %\n",
      "Adventure;Action & Adventure : 0.03 %\n",
      "Video Players & Editors;Music & Video : 0.02 %\n",
      "Sports;Action & Adventure : 0.02 %\n",
      "Simulation;Pretend Play : 0.02 %\n",
      "Puzzle;Creativity : 0.02 %\n",
      "Music;Music & Video : 0.02 %\n",
      "Entertainment;Pretend Play : 0.02 %\n",
      "Casual;Education : 0.02 %\n",
      "Board;Action & Adventure : 0.02 %\n",
      "Video Players & Editors;Creativity : 0.01 %\n",
      "Trivia;Education : 0.01 %\n",
      "Travel & Local;Action & Adventure : 0.01 %\n",
      "Tools;Education : 0.01 %\n",
      "Strategy;Education : 0.01 %\n",
      "Strategy;Creativity : 0.01 %\n",
      "Strategy;Action & Adventure : 0.01 %\n",
      "Simulation;Education : 0.01 %\n",
      "Role Playing;Brain Games : 0.01 %\n",
      "Racing;Pretend Play : 0.01 %\n",
      "Puzzle;Education : 0.01 %\n",
      "Parenting;Brain Games : 0.01 %\n",
      "Music & Audio;Music & Video : 0.01 %\n",
      "Lifestyle;Pretend Play : 0.01 %\n",
      "Lifestyle;Education : 0.01 %\n",
      "Health & Fitness;Education : 0.01 %\n",
      "Health & Fitness;Action & Adventure : 0.01 %\n",
      "Entertainment;Education : 0.01 %\n",
      "Communication;Creativity : 0.01 %\n",
      "Comics;Creativity : 0.01 %\n",
      "Casual;Music & Video : 0.01 %\n",
      "Card;Action & Adventure : 0.01 %\n",
      "Books & Reference;Education : 0.01 %\n",
      "Art & Design;Pretend Play : 0.01 %\n",
      "Art & Design;Action & Adventure : 0.01 %\n",
      "Arcade;Pretend Play : 0.01 %\n",
      "Adventure;Education : 0.01 %\n"
     ]
    }
   ],
   "source": [
    "display_table(android_free, -4)   #android + genre"
   ]
  },
  {
   "cell_type": "markdown",
   "metadata": {},
   "source": [
    "The frequency tables we analyzed showed us that the App Store is dominated by apps designed for fun, while Google Play shows a more balanced landscape of both practical and fun apps. Now, we'd like to get an idea about the kind of apps with the most users."
   ]
  },
  {
   "cell_type": "markdown",
   "metadata": {},
   "source": [
    "###  4. The most popular Apps by Genre on App Store\n",
    "\n",
    "Another way to determine what genre is more popular is to count average number of installs for each app genre. Google play dataset have special column showing number of installs for each app `installs`, but App Store dataset doesnt have such column. Instead we can take another column  `ratint_count_tot` to find what genre is more popular in the App Store.\n",
    "\n",
    "We will write a special function\n",
    "\n",
    "\n"
   ]
  },
  {
   "cell_type": "code",
   "execution_count": 130,
   "metadata": {},
   "outputs": [
    {
     "name": "stdout",
     "output_type": "stream",
     "text": [
      "Average number of reviews in App Store: \n",
      "\n",
      "Navigation : 86090.33\n",
      "Reference : 74942.11\n",
      "Social Networking : 71548.35\n",
      "Music : 57326.53\n",
      "Weather : 52279.89\n",
      "Book : 39758.5\n",
      "Food & Drink : 33333.92\n",
      "Finance : 31467.94\n",
      "Photo & Video : 28441.54\n",
      "Travel : 28243.8\n",
      "Shopping : 26919.69\n",
      "Health & Fitness : 23298.02\n",
      "Sports : 23008.9\n",
      "Games : 22812.92\n",
      "News : 21248.02\n",
      "Productivity : 21028.41\n",
      "Utilities : 18684.46\n",
      "Lifestyle : 16485.76\n",
      "Entertainment : 14029.83\n",
      "Business : 7491.12\n",
      "Education : 7003.98\n",
      "Catalogs : 4004.0\n",
      "Medical : 612.0\n"
     ]
    }
   ],
   "source": [
    "def average_number_of_reviews(dataset, index_of_genre, index_of_number_of_ratings):\n",
    "    frequency_table_genre = frequency_table(dataset,index_of_genre)\n",
    "    \n",
    "    dict1 = {}\n",
    "    \n",
    "    for genre in frequency_table_genre:\n",
    "        \n",
    "        Sum_of_total_ratings = 0\n",
    "        Number_of_apps_in_genre = 0\n",
    "        \n",
    "        for app in dataset:\n",
    "            genre1 = app[index_of_genre]\n",
    "            number_ratings = float(app[index_of_number_of_ratings])\n",
    "            \n",
    "            if genre == genre1: \n",
    "                \n",
    "                Sum_of_total_ratings += number_ratings\n",
    "                Number_of_apps_in_genre += 1\n",
    "        \n",
    "        avg_number = round(Sum_of_total_ratings/ Number_of_apps_in_genre, 2)\n",
    "        \n",
    "        dict1[genre]=avg_number\n",
    "    \n",
    "    \n",
    "    list1 = []\n",
    "    for genre in dict1:\n",
    "        value = (dict1[genre],genre)\n",
    "        list1.append(value)\n",
    "    \n",
    "    sorted_list = sorted(list1, reverse = True)\n",
    "    for i in sorted_list:\n",
    "        print(i[1],':',i[0])\n",
    "\n",
    "    \n",
    "    \n",
    "print ('Average number of reviews in App Store:','\\n')  \n",
    "average_number_of_reviews(appstore_free, 11, 5)\n"
   ]
  },
  {
   "cell_type": "markdown",
   "metadata": {},
   "source": [
    "_Navigation_ genre has the highest number of reviews among other genres. Let's explore this genre"
   ]
  },
  {
   "cell_type": "code",
   "execution_count": 131,
   "metadata": {},
   "outputs": [
    {
     "name": "stdout",
     "output_type": "stream",
     "text": [
      "Waze - GPS Navigation, Maps & Real-time Traffic : 345046\n",
      "Google Maps - Navigation & Transit : 154911\n",
      "Geocaching® : 12811\n",
      "CoPilot GPS – Car Navigation & Offline Maps : 3582\n",
      "ImmobilienScout24: Real Estate Search in Germany : 187\n",
      "Railway Route Search : 5\n"
     ]
    }
   ],
   "source": [
    "for app in appstore_free:\n",
    "    if app[11] == 'Navigation':\n",
    "        print(app[1],':',app[5])"
   ]
  },
  {
   "cell_type": "markdown",
   "metadata": {},
   "source": [
    "We see that 2 apps (Waze and Goggle Maps) have the highest numbers. Due to these two giants average number was skewed up. We should avoid such big companies in our analysis. "
   ]
  },
  {
   "cell_type": "code",
   "execution_count": 132,
   "metadata": {},
   "outputs": [
    {
     "name": "stdout",
     "output_type": "stream",
     "text": [
      "Facebook : 2974676\n",
      "Pinterest : 1061624\n",
      "Skype for iPhone : 373519\n",
      "Messenger : 351466\n",
      "Tumblr : 334293\n",
      "WhatsApp Messenger : 287589\n",
      "Kik : 260965\n",
      "ooVoo – Free Video Call, Text and Voice : 177501\n",
      "TextNow - Unlimited Text + Calls : 164963\n",
      "Viber Messenger – Text & Call : 164249\n",
      "Followers - Social Analytics For Instagram : 112778\n",
      "MeetMe - Chat and Meet New People : 97072\n",
      "We Heart It - Fashion, wallpapers, quotes, tattoos : 90414\n",
      "InsTrack for Instagram - Analytics Plus More : 85535\n",
      "Tango - Free Video Call, Voice and Chat : 75412\n",
      "LinkedIn : 71856\n",
      "Match™ - #1 Dating App. : 60659\n",
      "Skype for iPad : 60163\n",
      "POF - Best Dating App for Conversations : 52642\n",
      "Timehop : 49510\n",
      "Find My Family, Friends & iPhone - Life360 Locator : 43877\n",
      "Whisper - Share, Express, Meet : 39819\n",
      "Hangouts : 36404\n",
      "LINE PLAY - Your Avatar World : 34677\n",
      "WeChat : 34584\n",
      "Badoo - Meet New People, Chat, Socialize. : 34428\n",
      "Followers + for Instagram - Follower Analytics : 28633\n",
      "GroupMe : 28260\n",
      "Marco Polo Video Walkie Talkie : 27662\n",
      "Miitomo : 23965\n",
      "SimSimi : 23530\n",
      "Grindr - Gay and same sex guys chat, meet and date : 23201\n",
      "Wishbone - Compare Anything : 20649\n",
      "imo video calls and chat : 18841\n",
      "After School - Funny Anonymous School News : 18482\n",
      "Quick Reposter - Repost, Regram and Reshare Photos : 17694\n",
      "Weibo HD : 16772\n",
      "Repost for Instagram : 15185\n",
      "Live.me – Live Video Chat & Make Friends Nearby : 14724\n",
      "Nextdoor : 14402\n",
      "Followers Analytics for Instagram - InstaReport : 13914\n",
      "YouNow: Live Stream Video Chat : 12079\n",
      "FollowMeter for Instagram - Followers Tracking : 11976\n",
      "LINE : 11437\n",
      "eHarmony™ Dating App - Meet Singles : 11124\n",
      "Discord - Chat for Gamers : 9152\n",
      "QQ : 9109\n",
      "Telegram Messenger : 7573\n",
      "Weibo : 7265\n",
      "Periscope - Live Video Streaming Around the World : 6062\n",
      "Chat for Whatsapp - iPad Version : 5060\n",
      "QQ HD : 5058\n",
      "Followers Analysis Tool For Instagram App Free : 4253\n",
      "live.ly - live video streaming : 4145\n",
      "Houseparty - Group Video Chat : 3991\n",
      "SOMA Messenger : 3232\n",
      "Monkey : 3060\n",
      "Down To Lunch : 2535\n",
      "Flinch - Video Chat Staring Contest : 2134\n",
      "Highrise - Your Avatar Community : 2011\n",
      "LOVOO - Dating Chat : 1985\n",
      "PlayStation®Messages : 1918\n",
      "BOO! - Video chat camera with filters & stickers : 1805\n",
      "Qzone : 1649\n",
      "Chatous - Chat with new people : 1609\n",
      "Kiwi - Q&A : 1538\n",
      "GhostCodes - a discovery app for Snapchat : 1313\n",
      "Jodel : 1193\n",
      "FireChat : 1037\n",
      "Google Duo - simple video calling : 1033\n",
      "Fiesta by Tango - Chat & Meet New People : 885\n",
      "Google Allo — smart messaging : 862\n",
      "Peach — share vividly : 727\n",
      "Hey! VINA - Where Women Meet New Friends : 719\n",
      "Battlefield™ Companion : 689\n",
      "All Devices for WhatsApp - Messenger for iPad : 682\n",
      "Chat for Pokemon Go - GoChat : 500\n",
      "IAmNaughty – Dating App to Meet New People Online : 463\n",
      "Qzone HD : 458\n",
      "Zenly - Locate your friends in realtime : 427\n",
      "League of Legends Friends : 420\n",
      "豆瓣 : 407\n",
      "Candid - Speak Your Mind Freely : 398\n",
      "知乎 : 397\n",
      "Selfeo : 366\n",
      "Fake-A-Location Free ™ : 354\n",
      "Popcorn Buzz - Free Group Calls : 281\n",
      "Fam — Group video calling for iMessage : 279\n",
      "QQ International : 274\n",
      "Ameba : 269\n",
      "SoundCloud Pulse: for creators : 240\n",
      "Tantan : 235\n",
      "Cougar Dating & Life Style App for Mature Women : 213\n",
      "Rawr Messenger - Dab your chat : 180\n",
      "WhenToPost: Best Time to Post Photos for Instagram : 158\n",
      "Inke—Broadcast an amazing life : 147\n",
      "Mustknow - anonymous video Q&A : 53\n",
      "CTFxCmoji : 39\n",
      "Lobi : 36\n",
      "Chain: Collaborate On MyVideo Story/Group Video : 35\n",
      "botman - Real time video chat : 7\n",
      "BestieBox : 0\n",
      "MATCH ON LINE chat : 0\n",
      "niconico ch : 0\n",
      "LINE BLOG : 0\n",
      "bit-tube - Live Stream Video Chat : 0\n"
     ]
    }
   ],
   "source": [
    "for app in appstore_free:\n",
    "    if app[11] == 'Social Networking':\n",
    "        print(app[1],':', app[5])"
   ]
  },
  {
   "cell_type": "markdown",
   "metadata": {},
   "source": [
    "The same pattern we can find in  Social Networking genre. Giants are Facebook, Pinterest, Skype, etc. Also, Social Networking genre looks over-saturated. Lets explore Reference genre."
   ]
  },
  {
   "cell_type": "code",
   "execution_count": 133,
   "metadata": {},
   "outputs": [
    {
     "name": "stdout",
     "output_type": "stream",
     "text": [
      "Bible : 985920\n",
      "Dictionary.com Dictionary & Thesaurus : 200047\n",
      "Dictionary.com Dictionary & Thesaurus for iPad : 54175\n",
      "Google Translate : 26786\n",
      "Muslim Pro: Ramadan 2017 Prayer Times, Azan, Quran : 18418\n",
      "New Furniture Mods - Pocket Wiki & Game Tools for Minecraft PC Edition : 17588\n",
      "Merriam-Webster Dictionary : 16849\n",
      "Night Sky : 12122\n",
      "City Maps for Minecraft PE - The Best Maps for Minecraft Pocket Edition (MCPE) : 8535\n",
      "LUCKY BLOCK MOD ™ for Minecraft PC Edition - The Best Pocket Wiki & Mods Installer Tools : 4693\n",
      "GUNS MODS for Minecraft PC Edition - Mods Tools : 1497\n",
      "Guides for Pokémon GO - Pokemon GO News and Cheats : 826\n",
      "WWDC : 762\n",
      "Horror Maps for Minecraft PE - Download The Scariest Maps for Minecraft Pocket Edition (MCPE) Free : 718\n",
      "VPN Express : 14\n",
      "Real Bike Traffic Rider Virtual Reality Glasses : 8\n",
      "教えて!goo : 0\n",
      "Jishokun-Japanese English Dictionary & Translator : 0\n"
     ]
    }
   ],
   "source": [
    "for app in appstore_free:\n",
    "    if app[11] == 'Reference':\n",
    "        print(app[1],':', app[5])"
   ]
  },
  {
   "cell_type": "markdown",
   "metadata": {},
   "source": [
    "The reference genre looks unsaturated. There are only two apps with the large number of reviews. They are  Bible and Dictionary apps. it's possible to create an app within this genre. Let's say some app for popular MMORPG where users can find guides, descriptions of characters, their skills, abilities and all gamers need to play some particular online game."
   ]
  },
  {
   "cell_type": "markdown",
   "metadata": {},
   "source": [
    "### 5. The most popular Apps by Genre on the Google Play market\n",
    "\n",
    "\n"
   ]
  },
  {
   "cell_type": "markdown",
   "metadata": {},
   "source": [
    "The Google play data set has `installs` column that can tell us which apps have the most number of installs. Lets create a frequency table for this column."
   ]
  },
  {
   "cell_type": "code",
   "execution_count": 134,
   "metadata": {},
   "outputs": [
    {
     "name": "stdout",
     "output_type": "stream",
     "text": [
      "1,000,000+ : 15.73 %\n",
      "100,000+ : 11.55 %\n",
      "10,000,000+ : 10.55 %\n",
      "10,000+ : 10.2 %\n",
      "1,000+ : 8.39 %\n",
      "100+ : 6.92 %\n",
      "5,000,000+ : 6.83 %\n",
      "500,000+ : 5.56 %\n",
      "50,000+ : 4.77 %\n",
      "5,000+ : 4.51 %\n",
      "10+ : 3.54 %\n",
      "500+ : 3.25 %\n",
      "50,000,000+ : 2.3 %\n",
      "100,000,000+ : 2.13 %\n",
      "50+ : 1.92 %\n",
      "5+ : 0.79 %\n",
      "1+ : 0.51 %\n",
      "500,000,000+ : 0.27 %\n",
      "1,000,000,000+ : 0.23 %\n",
      "0+ : 0.05 %\n",
      "0 : 0.01 %\n"
     ]
    }
   ],
   "source": [
    "display_table(android_free, 5)"
   ]
  },
  {
   "cell_type": "markdown",
   "metadata": {},
   "source": [
    "Data in that column is not preciece enough, i.e it does not show exact number of installs but `100,000+`. To overcome that issue we will count 100,000+ installs  as `100000` (changing format). Anyway it will provide us with idea of which apps is more popular. \n",
    "\n",
    "Lets now analyze Google Play market for the most popular categories by the number of installs."
   ]
  },
  {
   "cell_type": "code",
   "execution_count": 135,
   "metadata": {},
   "outputs": [
    {
     "name": "stdout",
     "output_type": "stream",
     "text": [
      "COMMUNICATION : 38456119.17\n",
      "VIDEO_PLAYERS : 24727872.45\n",
      "SOCIAL : 23253652.13\n",
      "PHOTOGRAPHY : 17840110.4\n",
      "PRODUCTIVITY : 16787331.34\n",
      "GAME : 15588015.6\n",
      "TRAVEL_AND_LOCAL : 13984077.71\n",
      "ENTERTAINMENT : 11640705.88\n",
      "TOOLS : 10801391.3\n",
      "NEWS_AND_MAGAZINES : 9549178.47\n",
      "BOOKS_AND_REFERENCE : 8767811.89\n",
      "SHOPPING : 7036877.31\n",
      "PERSONALIZATION : 5201482.61\n",
      "WEATHER : 5074486.2\n",
      "HEALTH_AND_FITNESS : 4188821.99\n",
      "MAPS_AND_NAVIGATION : 4056941.77\n",
      "FAMILY : 3695641.82\n",
      "SPORTS : 3638640.14\n",
      "ART_AND_DESIGN : 1986335.09\n",
      "FOOD_AND_DRINK : 1924897.74\n",
      "EDUCATION : 1833495.15\n",
      "BUSINESS : 1712290.15\n",
      "LIFESTYLE : 1437816.27\n",
      "FINANCE : 1387692.48\n",
      "HOUSE_AND_HOME : 1331540.56\n",
      "DATING : 854028.83\n",
      "COMICS : 817657.27\n",
      "AUTO_AND_VEHICLES : 647317.82\n",
      "LIBRARIES_AND_DEMO : 638503.73\n",
      "PARENTING : 542603.62\n",
      "BEAUTY : 513151.89\n",
      "EVENTS : 253542.22\n",
      "MEDICAL : 120550.62\n"
     ]
    }
   ],
   "source": [
    "a = frequency_table(android_free, 1) \n",
    "#print(a)\n",
    "\n",
    "list1 = []\n",
    "\n",
    "for category in a:       #iterating over frequency table of category column\n",
    "    total = 0            # for each category we create 2 variables to which we will add data \n",
    "    len_category = 0     # about number of installs and count number of apps\n",
    "                         # in each particular category.\n",
    "    for app in android_free:\n",
    "        category_app = app[1]\n",
    "        \n",
    "        if category == category_app:\n",
    "            installs = app[5]                         #saving number of installs\n",
    "            installs =installs.replace('+', '')       #changing format\n",
    "            installs =installs.replace(',', '')\n",
    "            installs_float = float(installs)          #converting to float\n",
    "            total += installs_float                   #add number of installs to total variable\n",
    "            len_category += 1                         # +1\n",
    "        \n",
    "    avg_installs = total / len_category     \n",
    "    \n",
    "    tuple1 = (avg_installs,category)\n",
    "    list1.append(tuple1)\n",
    "    \n",
    "list1 = sorted(list1, reverse=True)\n",
    "    \n",
    "for i in list1:\n",
    "    print(i[1],':',round(i[0],2))\n",
    "\n",
    "        \n",
    "    \n",
    "    "
   ]
  },
  {
   "cell_type": "markdown",
   "metadata": {},
   "source": [
    "There are three the most popular genres: COMMUNICATION, VIDEO_PLAYERS, SOCIAL. In average `COMMUNICATION` category has 38,456,199 installs , but this number is skewed up by big giants like whatsapp, skype, gmail. Let's see exact numbers:"
   ]
  },
  {
   "cell_type": "code",
   "execution_count": 136,
   "metadata": {},
   "outputs": [
    {
     "name": "stdout",
     "output_type": "stream",
     "text": [
      "WhatsApp Messenger : 1,000,000,000+\n",
      "imo beta free calls and text : 100,000,000+\n",
      "Android Messages : 100,000,000+\n",
      "Google Duo - High Quality Video Calls : 500,000,000+\n",
      "Messenger – Text and Video Chat for Free : 1,000,000,000+\n",
      "imo free video calls and chat : 500,000,000+\n",
      "Skype - free IM & video calls : 1,000,000,000+\n",
      "Who : 100,000,000+\n",
      "GO SMS Pro - Messenger, Free Themes, Emoji : 100,000,000+\n",
      "LINE: Free Calls & Messages : 500,000,000+\n",
      "Google Chrome: Fast & Secure : 1,000,000,000+\n",
      "Firefox Browser fast & private : 100,000,000+\n",
      "UC Browser - Fast Download Private & Secure : 500,000,000+\n",
      "Gmail : 1,000,000,000+\n",
      "Hangouts : 1,000,000,000+\n",
      "Messenger Lite: Free Calls & Messages : 100,000,000+\n",
      "Kik : 100,000,000+\n",
      "KakaoTalk: Free Calls & Text : 100,000,000+\n",
      "Opera Mini - fast web browser : 100,000,000+\n",
      "Opera Browser: Fast and Secure : 100,000,000+\n",
      "Telegram : 100,000,000+\n",
      "Truecaller: Caller ID, SMS spam blocking & Dialer : 100,000,000+\n",
      "UC Browser Mini -Tiny Fast Private & Secure : 100,000,000+\n",
      "Viber Messenger : 500,000,000+\n",
      "WeChat : 100,000,000+\n",
      "Yahoo Mail – Stay Organized : 100,000,000+\n",
      "BBM - Free Calls & Messages : 100,000,000+\n"
     ]
    }
   ],
   "source": [
    "for app in android_free:\n",
    "    category = app[1]\n",
    "    installs = app[5]\n",
    "    if category == 'COMMUNICATION' and (installs == '1,000,000,000+'\n",
    "                                    or installs == '500,000,000+'\n",
    "                                    or installs == '100,000,000+'):\n",
    "        print(app[0],':',app[5])"
   ]
  },
  {
   "cell_type": "markdown",
   "metadata": {},
   "source": [
    "We should avoid such apps, so we delete them:\n"
   ]
  },
  {
   "cell_type": "code",
   "execution_count": 154,
   "metadata": {},
   "outputs": [
    {
     "name": "stdout",
     "output_type": "stream",
     "text": [
      "the average number of installs in \"COMMUNICATION\" genre: 3603485.39\n"
     ]
    }
   ],
   "source": [
    "under_100m = []\n",
    "\n",
    "for app in android_free:\n",
    "    category = app[1]\n",
    "    n_installs = app[5]\n",
    "    n_installs = n_installs.replace(',','')\n",
    "    n_installs = n_installs.replace('+','')\n",
    "    n_installs = float(n_installs)\n",
    "    if category == 'COMMUNICATION' and n_installs < 100000000:\n",
    "        under_100m.append(n_installs)\n",
    "\n",
    "        \n",
    "print('the average number of installs in \"COMMUNICATION\" genre:',round(sum(under_100m)/len(under_100m),2))\n"
   ]
  },
  {
   "cell_type": "code",
   "execution_count": 156,
   "metadata": {},
   "outputs": [
    {
     "data": {
      "text/plain": [
       "34852633.78"
      ]
     },
     "execution_count": 156,
     "metadata": {},
     "output_type": "execute_result"
    }
   ],
   "source": [
    "38456119.17 - 3603485.39"
   ]
  },
  {
   "cell_type": "markdown",
   "metadata": {},
   "source": [
    "The difference is  34,852,633.78. If we explore other popular genres like VIDEO_PLAYERS, SOCIAL we will find the same pattern, i.e category dominated by giants. It's difficult to compete with such apps. Let's look at the BOOKS_AND_REFERENCE category."
   ]
  },
  {
   "cell_type": "code",
   "execution_count": 168,
   "metadata": {},
   "outputs": [
    {
     "name": "stdout",
     "output_type": "stream",
     "text": [
      "Average number of installs in BOOKS_AND_REFERENCE: 8767811.894736841 \n",
      "\n",
      "Google Play Books : 1000000000.0\n",
      "Wattpad 📖 Free Books : 100000000.0\n",
      "Bible : 100000000.0\n",
      "Audiobooks from Audible : 100000000.0\n",
      "Amazon Kindle : 100000000.0\n",
      "Wikipedia : 10000000.0\n",
      "Spanish English Translator : 10000000.0\n",
      "Quran for Android : 10000000.0\n",
      "Oxford Dictionary of English : Free : 10000000.0\n",
      "NOOK: Read eBooks & Magazines : 10000000.0\n",
      "Moon+ Reader : 10000000.0\n",
      "JW Library : 10000000.0\n",
      "HTC Help : 10000000.0\n",
      "FBReader: Favorite Book Reader : 10000000.0\n",
      "English Hindi Dictionary : 10000000.0\n",
      "English Dictionary - Offline : 10000000.0\n",
      "Dictionary.com: Find Definitions for English Words : 10000000.0\n",
      "Dictionary - Merriam-Webster : 10000000.0\n",
      "Dictionary : 10000000.0\n",
      "Cool Reader : 10000000.0\n",
      "Aldiko Book Reader : 10000000.0\n",
      "Al-Quran (Free) : 10000000.0\n",
      "Al'Quran Bahasa Indonesia : 10000000.0\n",
      "Al Quran Indonesia : 10000000.0\n",
      "Read books online : 5000000.0\n",
      "English to Hindi Dictionary : 5000000.0\n",
      "Ebook Reader : 5000000.0\n",
      "Dictionary - WordWeb : 5000000.0\n",
      "Bible KJV : 5000000.0\n",
      "Ancestry : 5000000.0\n",
      "AlReader -any text book reader : 5000000.0\n",
      "Al Quran : EAlim - Translations & MP3 Offline : 5000000.0\n",
      "50000 Free eBooks & Free AudioBooks : 5000000.0\n",
      "wikiHow: how to do anything : 1000000.0\n",
      "eBoox: book reader fb2 epub zip : 1000000.0\n",
      "Stats Royale for Clash Royale : 1000000.0\n",
      "Satellite AR : 1000000.0\n",
      "ReadEra – free ebook reader : 1000000.0\n",
      "Oxford A-Z of English Usage : 1000000.0\n",
      "My Little Pony AR Guide : 1000000.0\n",
      "Koran Read &MP3 30 Juz Offline : 1000000.0\n",
      "Hafizi Quran 15 lines per page : 1000000.0\n",
      "Golden Dictionary (EN-AR) : 1000000.0\n",
      "Free Books - Spirit Fanfiction and Stories : 1000000.0\n",
      "FamilySearch Tree : 1000000.0\n",
      "English-Myanmar Dictionary : 1000000.0\n",
      "EGW Writings : 1000000.0\n",
      "Cloud of Books : 1000000.0\n",
      "Brilliant Quotes: Life, Love, Family & Motivation : 1000000.0\n",
      "Book store : 1000000.0\n",
      "All Maths Formulas : 1000000.0\n",
      "All Language Translator Free : 1000000.0\n",
      "Al Quran Al karim : 1000000.0\n",
      "Youboox - Livres, BD et magazines : 500000.0\n",
      "SDA Sabbath School Quarterly : 500000.0\n",
      "Recipes of Prophetic Medicine for free : 500000.0\n",
      "Only 30 days in English, the guideline is guaranteed : 500000.0\n",
      "Offline: English to Tagalog Dictionary : 500000.0\n",
      "NOOK Audiobooks : 500000.0\n",
      "NOOK App for NOOK Devices : 500000.0\n",
      "Google I/O 2018 : 500000.0\n",
      "Golden Dictionary (FR-AR) : 500000.0\n",
      "Flybook : 500000.0\n",
      "English to Urdu Dictionary : 500000.0\n",
      "English Persian Dictionary : 500000.0\n",
      "English Grammar Complete Handbook : 500000.0\n",
      "Azpen eReader : 500000.0\n",
      "Al-Quran 30 Juz free copies : 500000.0\n",
      "Al Quran (Tafsir & by Word) : 500000.0\n",
      "cloudLibrary : 100000.0\n",
      "V Made : 100000.0\n",
      "URBANO V 02 instruction manual : 100000.0\n",
      "Surah Al-Waqiah : 100000.0\n",
      "Sabbath School : 100000.0\n",
      "Pdf Book Download - Read Pdf Book : 100000.0\n",
      "Offline English Dictionary : 100000.0\n",
      "Litnet - E-books : 100000.0\n",
      "Hymnes et Louanges : 100000.0\n",
      "How to Write CV : 100000.0\n",
      "Hisnul Al Muslim - Hisn Invocations & Adhkaar : 100000.0\n",
      "Guide (for X-MEN) : 100000.0\n",
      "Free Panda Radio Music : 100000.0\n",
      "Free Book Reader : 100000.0\n",
      "English translation from Bengali : 100000.0\n",
      "EGW Writings 2 : 100000.0\n",
      "Download free book with green book : 100000.0\n",
      "Bible with EGW Comments : 100000.0\n",
      "BakaReader EX : 100000.0\n",
      "Aab e Hayat Full Novel : 100000.0\n",
      "eBoox new: Reader for fb2 epub zip books : 50000.0\n",
      "SH-02J Owner's Manual (Android 8.0) : 50000.0\n",
      "La citadelle du musulman : 50000.0\n",
      "Fertilizer Removal By Crop : 50000.0\n",
      "EZ Quran : 50000.0\n",
      "E-Book Read - Read Book for free : 50000.0\n",
      "DV 2019 - EDV Photo & Form : 50000.0\n",
      "C Programs and Reference : 50000.0\n",
      "C Programs Handbook : 50000.0\n",
      "Bible du Semeur-BDS (French) : 50000.0\n",
      "Al-Muhaffiz : 50000.0\n",
      "TN Patta Citta & EC : 10000.0\n",
      "R Language Reference Guide : 10000.0\n",
      "Kristian Hla Bu : 10000.0\n",
      "Kinot & Eichah for Tisha B'Av : 10000.0\n",
      "Guide for DB Xenoverse 2 : 10000.0\n",
      "Guide for DB Xenoverse : 10000.0\n",
      "English To Shona Dictionary : 10000.0\n",
      "Easy Cv maker 2018 : 10000.0\n",
      "DV 2019 Entry Guide : 10000.0\n",
      "DM Screen : 10000.0\n",
      "Bulgarian French Dictionary Fr : 10000.0\n",
      "Borneo Bible, BM Bible : 10000.0\n",
      "Bootable Methods(USB-CD-DVD) : 10000.0\n",
      "BR Ambedkar Biography & Quotes : 10000.0\n",
      "BD All Sim Offer : 10000.0\n",
      "B&H Kids AR : 10000.0\n",
      "Ay Mohabbat Teri Khatir Novel : 10000.0\n",
      "Ay Hasnain k Nana Milad Naat : 10000.0\n",
      "Anonymous caller detection : 10000.0\n",
      "Ag PhD Field Guide : 10000.0\n",
      "Ag PhD Deficiencies : 10000.0\n",
      "Ae Allah na Dai (Rasa) : 10000.0\n",
      "AP Stamps and Registration : 10000.0\n",
      "Learn R Programming Full : 5000.0\n",
      "Learn CT Scan Of Head : 5000.0\n",
      "Fanfic-FR : 5000.0\n",
      "FA Part 1 & 2 Past Papers Solved Free – Offline : 5000.0\n",
      "EC - AP & Telangana : 5000.0\n",
      "Duaa Ek Ibaadat : 5000.0\n",
      "DC HSEMA : 5000.0\n",
      "CA Laws 2018 (California Laws and Codes) : 5000.0\n",
      "Browsery by Barnes & Noble : 5000.0\n",
      "Bilingual Dictionary Audio App : 5000.0\n",
      "B y H Niños ES : 5000.0\n",
      "AY Sing : 5000.0\n",
      "AW Tozer Devotionals - Daily : 5000.0\n",
      "AC Air condition Troubleshoot,Repair,Maintenance : 5000.0\n",
      "bp e-store : 1000.0\n",
      "Tozer Devotional -Series 1 : 1000.0\n",
      "The SCP Foundation DB fr nn5n : 1000.0\n",
      "The Pursuit of God : 1000.0\n",
      "SA HLA BU : 1000.0\n",
      "R Quick Reference Big Data : 1000.0\n",
      "R Programing Offline Tutorial : 1000.0\n",
      "Painting Lulu DC Super Friends : 1000.0\n",
      "La Fe de Jesus : 1000.0\n",
      "Greek Bible FP (Audio) : 1000.0\n",
      "Florida Statutes (FL Code) : 1000.0\n",
      "Florida - Pocket Brainbook : 1000.0\n",
      "Fix Error Google Playstore : 1000.0\n",
      "EU Data Protection : 1000.0\n",
      "EU Charter : 1000.0\n",
      "EP Research Service : 1000.0\n",
      "EB Annual Meetings : 1000.0\n",
      "Dr. Doug's Tips : 1000.0\n",
      "DV 2018 Winners Guide : 1000.0\n",
      "DC Public Library : 1000.0\n",
      "D. H. Lawrence Poems FREE : 1000.0\n",
      "Chemin (fr) : 1000.0\n",
      "CW Nuclear : 1000.0\n",
      "C Offline Tutorial : 1000.0\n",
      "BM Box : 1000.0\n",
      "BD Fishpedia : 1000.0\n",
      "Arizona Statutes, ARS (AZ Law) : 1000.0\n",
      "Ag PhD Soybean Diseases : 1000.0\n",
      "Ag PhD Planting Population Calculator : 1000.0\n",
      "AE Bulletins : 1000.0\n",
      "SDA Collegiate Quarterly : 500.0\n",
      "Modlitební knížka CZ : 500.0\n",
      "Learn SAP BW on HANA : 500.0\n",
      "Learn SAP BW : 500.0\n",
      "Le Fe de Jesus : 500.0\n",
      "La Fe de Jesús : 500.0\n",
      "Catholic La Bu Zo Kam : 500.0\n",
      "MOD Black for BM : 100.0\n",
      "EU IP Codes : 100.0\n",
      "Cypress College Library : 100.0\n",
      "CompactiMa EC pH Calibration : 100.0\n",
      "BU Alsace : 100.0\n",
      "Anime Mod for BM : 100.0\n",
      "GATE 21 years CS Papers(2011-2018 Solved) : 50.0\n",
      "A-J Media Vault : 50.0\n",
      "Learn R Programming : 10.0\n",
      "Khrifa Hla Bu (Solfa) : 10.0\n",
      "Guide for IMS DB : 10.0\n",
      "CY Spray nozzle : 10.0\n",
      "Guide for R Programming : 5.0\n",
      "EW PDF : 5.0\n",
      "CZ-Help : 5.0\n",
      "BibleRead En Cy Zh Yue : 5.0\n"
     ]
    }
   ],
   "source": [
    "list3 =[]\n",
    "total = 0\n",
    "len1 = 0\n",
    "\n",
    "for app in android_free:\n",
    "    category = app[1]\n",
    "    n_installs = app[5]\n",
    "    n_installs = n_installs.replace(',','')\n",
    "    n_installs = n_installs.replace('+','')\n",
    "    n_installs = float(n_installs)\n",
    "    if category == 'BOOKS_AND_REFERENCE':\n",
    "        total += n_installs\n",
    "        len1 += 1 \n",
    "        tuple3 = (n_installs,app[0])\n",
    "        list3.append(tuple3)\n",
    "\n",
    "print('Average number of installs in BOOKS_AND_REFERENCE:', total/len1,'\\n')\n",
    "\n",
    "        \n",
    "list4 = sorted(list3, reverse = True)\n",
    "\n",
    "for app in list4:\n",
    "    print(app[1],':',app[0])\n",
    "\n",
    "\n",
    "    "
   ]
  },
  {
   "cell_type": "markdown",
   "metadata": {},
   "source": [
    "There are giants like Bible, Google Play Books, etc. Lets explore category column avoiding giants:"
   ]
  },
  {
   "cell_type": "code",
   "execution_count": 173,
   "metadata": {},
   "outputs": [
    {
     "name": "stdout",
     "output_type": "stream",
     "text": [
      "Wikipedia : 10,000,000+\n",
      "Cool Reader : 10,000,000+\n",
      "Book store : 1,000,000+\n",
      "FBReader: Favorite Book Reader : 10,000,000+\n",
      "Free Books - Spirit Fanfiction and Stories : 1,000,000+\n",
      "AlReader -any text book reader : 5,000,000+\n",
      "FamilySearch Tree : 1,000,000+\n",
      "Cloud of Books : 1,000,000+\n",
      "ReadEra – free ebook reader : 1,000,000+\n",
      "Ebook Reader : 5,000,000+\n",
      "Read books online : 5,000,000+\n",
      "eBoox: book reader fb2 epub zip : 1,000,000+\n",
      "All Maths Formulas : 1,000,000+\n",
      "Ancestry : 5,000,000+\n",
      "HTC Help : 10,000,000+\n",
      "Moon+ Reader : 10,000,000+\n",
      "English-Myanmar Dictionary : 1,000,000+\n",
      "Golden Dictionary (EN-AR) : 1,000,000+\n",
      "All Language Translator Free : 1,000,000+\n",
      "Aldiko Book Reader : 10,000,000+\n",
      "Dictionary - WordWeb : 5,000,000+\n",
      "50000 Free eBooks & Free AudioBooks : 5,000,000+\n",
      "Al-Quran (Free) : 10,000,000+\n",
      "Al Quran Indonesia : 10,000,000+\n",
      "Al'Quran Bahasa Indonesia : 10,000,000+\n",
      "Al Quran Al karim : 1,000,000+\n",
      "Al Quran : EAlim - Translations & MP3 Offline : 5,000,000+\n",
      "Koran Read &MP3 30 Juz Offline : 1,000,000+\n",
      "Hafizi Quran 15 lines per page : 1,000,000+\n",
      "Quran for Android : 10,000,000+\n",
      "Satellite AR : 1,000,000+\n",
      "Oxford A-Z of English Usage : 1,000,000+\n",
      "Dictionary.com: Find Definitions for English Words : 10,000,000+\n",
      "English Dictionary - Offline : 10,000,000+\n",
      "Bible KJV : 5,000,000+\n",
      "NOOK: Read eBooks & Magazines : 10,000,000+\n",
      "Brilliant Quotes: Life, Love, Family & Motivation : 1,000,000+\n",
      "Stats Royale for Clash Royale : 1,000,000+\n",
      "Dictionary : 10,000,000+\n",
      "wikiHow: how to do anything : 1,000,000+\n",
      "EGW Writings : 1,000,000+\n",
      "My Little Pony AR Guide : 1,000,000+\n",
      "Spanish English Translator : 10,000,000+\n",
      "Dictionary - Merriam-Webster : 10,000,000+\n",
      "JW Library : 10,000,000+\n",
      "Oxford Dictionary of English : Free : 10,000,000+\n",
      "English Hindi Dictionary : 10,000,000+\n",
      "English to Hindi Dictionary : 5,000,000+\n"
     ]
    }
   ],
   "source": [
    "for app in android_free:\n",
    "    if app[1] == 'BOOKS_AND_REFERENCE' and (app[5] == '1,000,000+'\n",
    "                                            or app[5] == '5,000,000+'\n",
    "                                            or app[5] == '10,000,000+'\n",
    "                                            or app[5] == '50,000,000+'):\n",
    "        print(app[0],':',app[5])"
   ]
  },
  {
   "cell_type": "markdown",
   "metadata": {},
   "source": [
    "This category is dominated by dictionaries, readers, translators so we should try to find something else. \n",
    "\n",
    "We also notice a few apps built around the book Quran, which suggests that building an app around a popular book can be profitable."
   ]
  },
  {
   "cell_type": "markdown",
   "metadata": {},
   "source": []
  }
 ],
 "metadata": {
  "kernelspec": {
   "display_name": "Python 3",
   "language": "python",
   "name": "python3"
  },
  "language_info": {
   "codemirror_mode": {
    "name": "ipython",
    "version": 3
   },
   "file_extension": ".py",
   "mimetype": "text/x-python",
   "name": "python",
   "nbconvert_exporter": "python",
   "pygments_lexer": "ipython3",
   "version": "3.8.2"
  }
 },
 "nbformat": 4,
 "nbformat_minor": 2
}
